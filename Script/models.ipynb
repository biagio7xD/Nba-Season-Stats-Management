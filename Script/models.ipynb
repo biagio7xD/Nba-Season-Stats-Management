{
 "cells": [
  {
   "cell_type": "markdown",
   "source": [
    "# NBA Season Stats Management"
   ],
   "metadata": {
    "collapsed": false,
    "pycharm": {
     "name": "#%% md\n"
    }
   }
  },
  {
   "cell_type": "code",
   "execution_count": 285,
   "outputs": [],
   "source": [
    "import asyncio\n",
    "import pandas as pd\n",
    "from pony.orm import *"
   ],
   "metadata": {
    "collapsed": false,
    "pycharm": {
     "name": "#%%\n"
    }
   }
  },
  {
   "cell_type": "markdown",
   "source": [
    "## Create the database connection"
   ],
   "metadata": {
    "collapsed": false,
    "pycharm": {
     "name": "#%% md\n"
    }
   }
  },
  {
   "cell_type": "code",
   "execution_count": 286,
   "outputs": [],
   "source": [
    "db = Database()\n",
    "# PostgreSQL\n",
    "db.bind(provider='postgres', user='postgres', password='05041997', host='localhost', database='nba')"
   ],
   "metadata": {
    "collapsed": false,
    "pycharm": {
     "name": "#%%\n"
    }
   }
  },
  {
   "cell_type": "markdown",
   "source": [
    "## Map All the entity of logical model through PonyORM"
   ],
   "metadata": {
    "collapsed": false,
    "pycharm": {
     "name": "#%% md\n"
    }
   }
  },
  {
   "cell_type": "code",
   "execution_count": 287,
   "outputs": [],
   "source": [
    "from datetime import date\n",
    "\n",
    "\n",
    "class Arena(db.Entity):\n",
    "    id = PrimaryKey(int, auto=True)\n",
    "    name = Required(str,30)\n",
    "    capacity = Optional(int, nullable=True)\n",
    "    city = Optional(str,50, nullable=True)\n",
    "    team = Optional(lambda : Team)\n",
    "\n",
    "class Season(db.Entity):\n",
    "    season = PrimaryKey(int)\n",
    "    start_date = Required(date, unique=False)\n",
    "    end_date = Required(date, unique=False)\n",
    "    team_season = Set(lambda : Team_Season)\n",
    "\n",
    "class Team_Season(db.Entity):\n",
    "    season = Required(Season)\n",
    "    team = Required(lambda : Team)\n",
    "    coach = Optional(lambda : Coach)\n",
    "    stats = Optional(lambda : TeamStats, cascade_delete=True)\n",
    "    player = Set(lambda : Player)\n",
    "    PrimaryKey(season, team)\n",
    "\n",
    "class Team(db.Entity):\n",
    "    id = PrimaryKey(int, auto=True)\n",
    "    name = Required(str, 50, unique=True, nullable=False)\n",
    "    abbr = Optional(str, 5, unique=False, nullable=False)\n",
    "    nickname = Optional(str, 50, unique=False, nullable=False)\n",
    "    year_founded = Optional(int, unique=False)\n",
    "    staff = Optional(lambda : Staff)\n",
    "    arena = Optional(lambda : Arena)\n",
    "    team_season = Set(lambda : Team_Season)\n",
    "\n",
    "class Player(db.Entity):\n",
    "    name = Required(str, 25, unique=False, nullable=False)\n",
    "    age = Optional(int)\n",
    "    team_season = Optional(lambda : Team_Season)\n",
    "    position = Optional(str, 30, nullable=True)\n",
    "    player_stats = Optional(lambda : PlayerStats, cascade_delete=True)\n",
    "\n",
    "class Coach(db.Entity):\n",
    "    name = Required(str, 25, unique=False, nullable=False)\n",
    "    team_season = Optional(Team_Season)\n",
    "    coach_stats = Optional(lambda : CoachStats, cascade_delete=True)\n",
    "\n",
    "class Staff(db.Entity):\n",
    "    id = PrimaryKey(int, auto=True)\n",
    "    owner = Required(str, 40, unique=False)\n",
    "    manager = Optional(str, 25)\n",
    "    team = Required(Team)\n",
    "\n",
    "class TeamStats(db.Entity):\n",
    "    id = PrimaryKey(int, size=8, auto=True)\n",
    "    ELO = Required(float)\n",
    "    FG_PCT = Required(float)\n",
    "    FG3_PCT = Required(float)\n",
    "    FGA = Required(float)\n",
    "    FGM = Required(float)\n",
    "    FG3M = Required(float)\n",
    "    FG3A = Required(float)\n",
    "    FG2M = Required(float)\n",
    "    FG2A = Required(float)\n",
    "    FG_MISSED = Required(float)\n",
    "    FT_MISSED = Required(float)\n",
    "    FTM = Required(float)\n",
    "    FT_PCT = Required(float)\n",
    "    FTA = Required(float)\n",
    "    ORB = Required(float)\n",
    "    DRB = Required(float)\n",
    "    AST = Required(float)\n",
    "    STL = Required(float)\n",
    "    BLK = Required(float)\n",
    "    TO = Required(float)\n",
    "    PF = Required(float)\n",
    "    EFFICACY = Required(float)\n",
    "    PIE = Required(float)\n",
    "    POSS = Required(float)\n",
    "    PACE = Required(float)\n",
    "    PTS = Required(float)\n",
    "    team = Optional(Team_Season)\n",
    "\n",
    "\n",
    "class PlayerStats(db.Entity):\n",
    "    id = PrimaryKey(int, auto=True)\n",
    "    GMS = Required(int)\n",
    "    GStart = Required(int)\n",
    "    MP = Required(int)\n",
    "    FG = Required(int)\n",
    "    FGA = Required(int)\n",
    "    FGP = Required(float)\n",
    "    ThreeP = Required(int)\n",
    "    ThreePA = Required(int)\n",
    "    ThreePP = Required(float)\n",
    "    TwoP = Required(float)\n",
    "    TwoPA = Required(float)\n",
    "    TwoPP = Required(float)\n",
    "    eFGP = Required(float)\n",
    "    FT = Required(float)\n",
    "    FTA = Required(float)\n",
    "    FTP = Optional(float)\n",
    "    ORB = Required(float)\n",
    "    DRB = Required(float)\n",
    "    TRB = Required(float)\n",
    "    AST = Required(float)\n",
    "    STL = Required(float)\n",
    "    BLK = Required(float)\n",
    "    TOV = Required(float)\n",
    "    PF = Required(float)\n",
    "    PTS = Required(float)\n",
    "    player = Optional(Player)\n",
    "\n",
    "class CoachStats(db.Entity):\n",
    "    id = PrimaryKey(int, auto=True)\n",
    "    SeasG = Required(int)\n",
    "    SeasW = Required(int)\n",
    "    SeasL = Optional(float)\n",
    "    FranG = Required(int)\n",
    "    FranW = Required(int)\n",
    "    FranL = Required(int)\n",
    "    CareW = Required(int)\n",
    "    CareL = Required(int)\n",
    "    CareWP = Required(float)\n",
    "    POSeasG = Required(float)\n",
    "    POSeasW = Required(float)\n",
    "    POSeasL = Required(float)\n",
    "    POFranW = Required(float)\n",
    "    POFranG = Required(float)\n",
    "    POFranL = Required(float)\n",
    "    POCareG = Required(float)\n",
    "    POCareW = Required(float)\n",
    "    POCareL = Required(float)\n",
    "    coach = Optional(Coach)\n",
    "\n",
    "db.generate_mapping(create_tables=True)"
   ],
   "metadata": {
    "collapsed": false,
    "pycharm": {
     "name": "#%%\n"
    }
   }
  },
  {
   "cell_type": "markdown",
   "source": [
    "## Let's populate the database schema just created"
   ],
   "metadata": {
    "collapsed": false,
    "pycharm": {
     "name": "#%% md\n"
    }
   }
  },
  {
   "cell_type": "code",
   "execution_count": 288,
   "outputs": [],
   "source": [
    "full = pd.read_csv(\"CSV_Files/nba2019.csv\")\n",
    "playerdf = pd.read_csv(\"CSV_Files/player.csv\")"
   ],
   "metadata": {
    "collapsed": false,
    "pycharm": {
     "name": "#%%\n"
    }
   }
  },
  {
   "cell_type": "code",
   "execution_count": 289,
   "outputs": [
    {
     "data": {
      "text/plain": "Index(['Name', 'Abbr', 'Coach_Name', 'SeasG', 'SeasW', 'SeasL', 'FranG',\n       'FranW', 'FranL', 'CareW', 'CareL', 'CareWP', 'POSeasG', 'POSeasW',\n       'POSeasL', 'POFranG', 'POFranW', 'POFranL', 'POCareG', 'POCareW',\n       'POCareL', 'Year_Founded', 'City', 'Arena', 'Capacity', 'Owner',\n       'Manager', 'Team_ID', 'Nickname', 'Season', 'PTS', 'FG_PCT', 'FT_PCT',\n       'FG3_PCT', 'AST', 'REB', 'ELO_BEFORE', 'FGM', 'FGA', 'FG3M', 'FG3A',\n       'FTM', 'FTA', 'OREB', 'DREB', 'STL', 'BLK', 'TO', 'PF', 'FG2M', 'FG2A',\n       'FG_MISSED', 'FT_MISSED', 'EFFICACY', 'EFG', 'PTS_FGA', 'PIE', 'POSS',\n       'PACE', 'OFF_EFC', 'DEF_EFC'],\n      dtype='object')"
     },
     "execution_count": 289,
     "metadata": {},
     "output_type": "execute_result"
    }
   ],
   "source": [
    "full.columns"
   ],
   "metadata": {
    "collapsed": false,
    "pycharm": {
     "name": "#%%\n"
    }
   }
  },
  {
   "cell_type": "code",
   "execution_count": 290,
   "outputs": [],
   "source": [
    "# Def used to insert a team from processed data into database\n",
    "def insert_team(data):\n",
    "    return Team(id=data['Team_ID'], name=data['Name'], abbr=data['Abbr'], year_founded=data['Year_Founded'], nickname = data['Nickname'])\n",
    "\n",
    "def insert_team_season(season, team, team_stats, coach):\n",
    "    return Team_Season(season = season, coach = coach, team = team, stats = team_stats)\n",
    "\n",
    "def insert_arena(data, team):\n",
    "    return Arena(name=data['Arena'], city=data['City'], capacity = data['Capacity'], team = team)\n",
    "\n",
    "def insert_staff(data, team):\n",
    "    return Staff(owner = data['Owner'], manager = data['Manager'], team = team)\n",
    "\n",
    "# def used to insert team stats into a database\n",
    "def insert_team_stats(data, idx: int):\n",
    "    stats = TeamStats(\n",
    "        id = idx,\n",
    "        ELO = data['ELO_BEFORE'],\n",
    "        FG_PCT = data['FG_PCT'],\n",
    "        FG3_PCT = data['FG3_PCT'],\n",
    "        FGA = data['FGA'],\n",
    "        FGM = data['FGM'],\n",
    "        FG3M = data['FG3M'],\n",
    "        FG3A = data['FG3A'],\n",
    "        FG2M = data['FG2M'],\n",
    "        FG2A = data['FG2A'],\n",
    "        FG_MISSED = data['FG_MISSED'],\n",
    "        FT_MISSED = data['FT_MISSED'],\n",
    "        FTM = data['FTM'],\n",
    "        FT_PCT = data['FT_PCT'],\n",
    "        FTA = data['FTA'],\n",
    "        ORB = data['OREB'],\n",
    "        DRB = data['DREB'],\n",
    "        AST = data['AST'],\n",
    "        STL = data['STL'],\n",
    "        BLK = data['BLK'],\n",
    "        TO = data['TO'],\n",
    "        PF = data['PF'],\n",
    "        EFFICACY = data['EFFICACY'],\n",
    "        PIE = data['PIE'],\n",
    "        POSS = data['POSS'],\n",
    "        PACE = data['PACE'],\n",
    "        PTS = data['PTS'],\n",
    "    )\n",
    "    return stats\n",
    "\n",
    "# def used to insert a coach into a database\n",
    "def insert_coach(data):\n",
    "    coach = Coach(\n",
    "        name = data['Coach_Name'],\n",
    "    )\n",
    "    return coach\n",
    "\n",
    "# def used to insert coach stats into a database e set relationship with a coach\n",
    "def insert_coach_stats(data, coach: Coach, idx):\n",
    "    stats = CoachStats(\n",
    "    id = idx,\n",
    "    SeasG = data['SeasG'],\n",
    "    SeasW = data['SeasW'],\n",
    "    SeasL = data['SeasL'],\n",
    "    FranG = data['FranG'],\n",
    "    FranW = data['FranW'],\n",
    "    FranL = data['FranL'],\n",
    "    CareW = data['CareW'],\n",
    "    CareL = data['CareL'],\n",
    "    CareWP = data['CareWP'],\n",
    "    POSeasG = data['POSeasG'],\n",
    "    POSeasW = data['POSeasW'],\n",
    "    POSeasL = data['POSeasL'],\n",
    "    POFranW = data['POFranW'],\n",
    "    POFranG = data['POFranG'],\n",
    "    POFranL = data['POFranL'],\n",
    "    POCareG = data['POCareG'],\n",
    "    POCareW = data['POCareW'],\n",
    "    POCareL = data['POCareL'],\n",
    "    coach = coach\n",
    "    )\n",
    "    return stats\n"
   ],
   "metadata": {
    "collapsed": false,
    "pycharm": {
     "name": "#%%\n"
    }
   }
  },
  {
   "cell_type": "code",
   "execution_count": 291,
   "outputs": [],
   "source": [
    "season = Season(season = 2018, start_date = date(2018, 10, 22), end_date = date(2019, 4, 10))\n",
    "commit()"
   ],
   "metadata": {
    "collapsed": false,
    "pycharm": {
     "name": "#%%\n"
    }
   }
  },
  {
   "cell_type": "code",
   "execution_count": 292,
   "outputs": [],
   "source": [
    "idx = 0\n",
    "for index, row in full.iterrows():\n",
    "    team = insert_team(row)\n",
    "    coach = insert_coach(row)\n",
    "    arena = insert_arena(row, team)\n",
    "    staff = insert_staff(row, team)\n",
    "    team_stats = insert_team_stats(row, idx)\n",
    "    coach_stats = insert_coach_stats(row, coach, idx)\n",
    "    coach.stats = coach_stats\n",
    "    team.staff = staff\n",
    "    team.arena = arena\n",
    "    team_season = Team_Season(season=season, team=team, stats=team_stats, coach=coach)\n",
    "    commit()\n",
    "    idx += 1"
   ],
   "metadata": {
    "collapsed": false,
    "pycharm": {
     "name": "#%%\n"
    }
   }
  },
  {
   "cell_type": "code",
   "execution_count": 293,
   "outputs": [],
   "source": [
    "def insert_player(data, idx):\n",
    "    player = Player(\n",
    "        id = idx,\n",
    "        name = data['Name'],\n",
    "        position =  data['Pos'],\n",
    "        age = data['Age'],\n",
    "        team_season = Team_Season.select(lambda tm : tm.team.id == data['TEAM_ID']).get()\n",
    "    )\n",
    "    return player\n",
    "\n",
    "def insert_player_stats(data, idx, player):\n",
    "    stats = PlayerStats(\n",
    "        id = idx,\n",
    "        GMS = data['Gms'],\n",
    "        GStart = data['Gstart'],\n",
    "        MP = data['MP'],\n",
    "        FG = data['FG'],\n",
    "        FGA = data['FGA'],\n",
    "        FGP = data['FGP'],\n",
    "        ThreeP = data['ThreeP'],\n",
    "        ThreePA = data['ThreePA'],\n",
    "        ThreePP = data['ThreePP'],\n",
    "        TwoP = data['TwoP'],\n",
    "        TwoPA = data['TwoPA'],\n",
    "        TwoPP = data['TwoPP'],\n",
    "        eFGP = data['eFGP'],\n",
    "        FT = data['FT'],\n",
    "        FTA = data['FTA'],\n",
    "        FTP = data['FTP'],\n",
    "        ORB = data['ORB'],\n",
    "        DRB = data['DRB'],\n",
    "        TRB = data['TRB'],\n",
    "        AST = data['AST'],\n",
    "        STL = data['STL'],\n",
    "        BLK = data['BLK'],\n",
    "        TOV = data['TOV'],\n",
    "        PF = data['PF'],\n",
    "        PTS = data['PTS'],\n",
    "        player = player\n",
    "    )\n",
    "    return stats\n"
   ],
   "metadata": {
    "collapsed": false,
    "pycharm": {
     "name": "#%%\n"
    }
   }
  },
  {
   "cell_type": "code",
   "execution_count": 294,
   "outputs": [],
   "source": [
    "idx = 0\n",
    "for index, row in playerdf.iterrows():\n",
    "    player = insert_player(row, idx)\n",
    "    stats = insert_player_stats(row, idx, player)\n",
    "    player.stats = stats\n",
    "    tm = Team_Season.select(lambda t: t.team.id == row['TEAM_ID']).get()\n",
    "    tm.player.add(player)\n",
    "    commit()\n",
    "    idx += 1"
   ],
   "metadata": {
    "collapsed": false,
    "pycharm": {
     "name": "#%%\n"
    }
   }
  },
  {
   "cell_type": "code",
   "execution_count": 295,
   "outputs": [
    {
     "name": "stdout",
     "output_type": "stream",
     "text": [
      "id |name             |age|team_season                 |position|player_stats    \n",
      "---+-----------------+---+----------------------------+--------+----------------\n",
      "13 |Ryan Anderson    |29 |Team_Season[Season[2018],...|PF      |PlayerStats[13] \n",
      "19 |Trevor Ariza     |32 |Team_Season[Season[2018],...|SF      |PlayerStats[19] \n",
      "52 |Tarik Black      |26 |Team_Season[Season[2018],...|C       |PlayerStats[52] \n",
      "76 |Bobby Brown      |33 |Team_Season[Season[2018],...|PG      |PlayerStats[76] \n",
      "79 |Markel Brown     |26 |Team_Season[Season[2018],...|SG      |PlayerStats[79] \n",
      "92 |Isaiah Canaan    |26 |Team_Season[Season[2018],...|PG-SG   |PlayerStats[92] \n",
      "94 |Clint Capela     |23 |Team_Season[Season[2018],...|C       |PlayerStats[94] \n",
      "198|Eric Gordon      |29 |Team_Season[Season[2018],...|SG      |PlayerStats[198]\n",
      "206|Gerald Green     |32 |Team_Season[Season[2018],...|SG      |PlayerStats[206]\n",
      "213|James Harden     |28 |Team_Season[Season[2018],...|SG      |PlayerStats[213]\n",
      "240|Nene Hilario     |35 |Team_Season[Season[2018],...|C       |PlayerStats[240]\n",
      "257|R.J. Hunter      |24 |Team_Season[Season[2018],...|SG      |PlayerStats[257]\n",
      "270|Aaron Jackson    |31 |Team_Season[Season[2018],...|PG      |PlayerStats[270]\n",
      "271|Demetrius Jackson|23 |Team_Season[Season[2018],...|PG      |PlayerStats[271]\n",
      "289|Joe Johnson      |36 |Team_Season[Season[2018],...|SF      |PlayerStats[289]\n",
      "357|Luc Mbah a Moute |31 |Team_Season[Season[2018],...|PF      |PlayerStats[357]\n",
      "431|Chinanu Onuaku   |21 |Team_Season[Season[2018],...|C       |PlayerStats[431]\n",
      "444|Chris Paul       |32 |Team_Season[Season[2018],...|PG      |PlayerStats[444]\n",
      "467|Zhou Qi          |22 |Team_Season[Season[2018],...|C       |PlayerStats[467]\n",
      "468|Tim Quarterman   |23 |Team_Season[Season[2018],...|SG      |PlayerStats[468]\n",
      "540|P.J. Tucker      |32 |Team_Season[Season[2018],...|PF      |PlayerStats[540]\n",
      "566|Briante Weber    |25 |Team_Season[Season[2018],...|PG      |PlayerStats[566]\n",
      "584|Troy Williams    |23 |Team_Season[Season[2018],...|SF      |PlayerStats[584]\n",
      "592|Brandan Wright   |30 |Team_Season[Season[2018],...|PF      |PlayerStats[592]\n"
     ]
    }
   ],
   "source": [
    "from pony.orm.serialization import to_dict\n",
    "Player.select(lambda p: p.team_season.team.id == 1610612745 and p.team_season.season.season == 2018).show()"
   ],
   "metadata": {
    "collapsed": false,
    "pycharm": {
     "name": "#%%\n"
    }
   }
  },
  {
   "cell_type": "markdown",
   "source": [
    "## CRUD Operation on data"
   ],
   "metadata": {
    "collapsed": false,
    "pycharm": {
     "name": "#%% md\n"
    }
   }
  },
  {
   "cell_type": "code",
   "execution_count": 296,
   "outputs": [],
   "source": [
    "@db_session\n",
    "def get_all_team_of_season(season:int):\n",
    "    return Team_Season.select(lambda tm : tm.season.season == season)\n",
    "\n",
    "@db_session\n",
    "def get_all_season():\n",
    "    return Season.select()\n",
    "\n",
    "@db_session\n",
    "def get_team(idx:int):\n",
    "    return Team.select(lambda t: t.id == idx).get()\n",
    "\n",
    "@db_session\n",
    "def get_team_stats(idx:int, season:int):\n",
    "    return TeamStats.select(lambda ts: ts.team.team.id == idx and ts.team.season.season == season).get()\n",
    "\n",
    "@db_session\n",
    "def get_coach(idx:int, season:int):\n",
    "    return Coach.select(lambda c: c.team_season.team.id == idx and c.team_season.season.season == season ).get()\n",
    "\n",
    "@db_session\n",
    "def get_coach_stats(idx:str):\n",
    "    return CoachStats.select(lambda c: c.coach.name == idx).get()\n",
    "\n",
    "@db_session\n",
    "def get_players(idx:int, season:int):\n",
    "    return Player.select(lambda p: p.team_season.team.id == idx and p.team_season.season.season == season)\n",
    "\n",
    "@db_session\n",
    "def get_player_stats(idx:int):\n",
    "    return PlayerStats.select(lambda ps: ps.player.id == idx).get()\n",
    "\n",
    "@db_session\n",
    "def get_team_staff(idx:int):\n",
    "    return Staff.select(lambda s : s.team.id == idx).get()\n",
    "\n",
    "@db_session\n",
    "def get_arena(idx:int):\n",
    "    return Arena.select(lambda a : a.team.id == idx).get()\n",
    "\n",
    "def get_max_capacity_arena():\n",
    "    return Arena.select().order_by(desc(Arena.capacity))[:5]"
   ],
   "metadata": {
    "collapsed": false,
    "pycharm": {
     "name": "#%%\n"
    }
   }
  },
  {
   "cell_type": "code",
   "execution_count": 297,
   "outputs": [],
   "source": [
    "## Implementation of FastAPI to create API of nba data"
   ],
   "metadata": {
    "collapsed": false,
    "pycharm": {
     "name": "#%%\n"
    }
   }
  },
  {
   "cell_type": "code",
   "execution_count": 301,
   "outputs": [],
   "source": [
    "from fastapi import FastAPI, Request\n",
    "from pydantic import BaseModel\n",
    "from loguru import logger\n",
    "from pony.orm.serialization import to_dict\n",
    "\n",
    "app = FastAPI()\n",
    "\n",
    "@app.get(\"/team/{teamID}/arena\")\n",
    "@db_session\n",
    "def g_arena(teamID:int):\n",
    "    arena = get_arena(teamID)\n",
    "    return {\n",
    "        'city' : arena.city,\n",
    "        'name': arena.name,\n",
    "        'capacity': arena.capacity\n",
    "    }\n",
    "\n",
    "@app.get(\"/team/{teamID}/staff\")\n",
    "@db_session\n",
    "def g_staff(teamID:int):\n",
    "    staff = get_team_staff(teamID)\n",
    "    return {\n",
    "        'owner' : staff.owner,\n",
    "        'manager': staff.manager,\n",
    "    }\n",
    "\n",
    "@app.get('/team/{idx}')\n",
    "@db_session\n",
    "def g_team(idx:int, request:Request):\n",
    "    el = get_team(idx)\n",
    "    data = {\n",
    "        'id' : el.id,\n",
    "        'name': el.name,\n",
    "        'abbr': el.abbr,\n",
    "        'nickname' : el.nickname,\n",
    "        'year_founded' : el.year_founded,\n",
    "        'arena' : request.url_for(\"g_arena\", teamID=el.id),\n",
    "        'staff': request.url_for(\"g_staff\", teamID=el.id)\n",
    "    }\n",
    "\n",
    "    return data\n",
    "\n",
    "@app.get(\"/{coach}/stats\")\n",
    "@db_session\n",
    "def g_coach_stats(coach:str):\n",
    "    c = get_coach_stats(coach)\n",
    "    data = {}\n",
    "    for key,value in c.to_dict().items():\n",
    "        if key == \"coach\" or key == \"id\":\n",
    "            continue\n",
    "        data[key] = value\n",
    "    return data\n",
    "\n",
    "@app.get(\"/{season}/team/{teamID}/coach\")\n",
    "@db_session\n",
    "def g_coach(teamID:int, season:int, request:Request):\n",
    "    c = get_coach(teamID, season)\n",
    "    return {\n",
    "        \"name\" : c.name,\n",
    "        \"stats\" : request.url_for('g_coach_stats', coach=c.name)\n",
    "    }\n",
    "\n",
    "@app.get(\"/{season}/{teamID}/stats\")\n",
    "@db_session\n",
    "def g_team_stats(season:int, teamID:int):\n",
    "    c = get_team_stats(teamID, season)\n",
    "    data = {}\n",
    "    for key,value in c.to_dict().items():\n",
    "        if key == \"team\" or key == \"id\":\n",
    "            continue\n",
    "        data[key] = value\n",
    "    return data\n",
    "\n",
    "@app.get(\"/{season}/{teamID}/{playerID}/stats\")\n",
    "@db_session\n",
    "def g_player_stats(season:int, teamID:int, playerID:int):\n",
    "    ps = get_player_stats(playerID)\n",
    "    data = {}\n",
    "    for key,value in ps.to_dict().items():\n",
    "        if key == \"player\":\n",
    "            continue\n",
    "        data[key] = value\n",
    "    return data\n",
    "\n",
    "@app.get(\"/{season}/{teamID}/players\")\n",
    "@db_session\n",
    "def g_players(season:int, teamID:int, request:Request):\n",
    "    p = get_players(teamID, season)\n",
    "    data = []\n",
    "    for el in p:\n",
    "        data.append({\n",
    "            'name' : el.name,\n",
    "            'age' : el.age,\n",
    "            'position' : el.position,\n",
    "            'stats' : request.url_for('g_player_stats', season=season, teamID=teamID, playerID=el.id)\n",
    "        })\n",
    "    return data\n",
    "\n",
    "@app.get(\"/{season}\")\n",
    "@db_session\n",
    "def all_season(request: Request, season:int):\n",
    "    season_team = get_all_team_of_season(2018)\n",
    "    data = []\n",
    "    for el in season_team:\n",
    "        data.append({\n",
    "            'Team' : el.team.name,\n",
    "            'team_info' : request.url_for(\"g_team\", idx=el.team.id),\n",
    "            'stats' : request.url_for('g_team_stats', teamID=el.team.id, season=el.season.season),\n",
    "            'coach' : request.url_for('g_coach', teamID=el.team.id, season=el.season.season),\n",
    "            'players' : request.url_for('g_players', teamID=el.team.id, season=el.season.season)\n",
    "\n",
    "        })\n",
    "    return data"
   ],
   "metadata": {
    "collapsed": false,
    "pycharm": {
     "name": "#%%\n"
    }
   }
  },
  {
   "cell_type": "code",
   "execution_count": 302,
   "outputs": [
    {
     "data": {
      "text/plain": "<NgrokTunnel: \"http://2027-185-63-103-73.ngrok.io\" -> \"http://localhost:3000\">"
     },
     "execution_count": 302,
     "metadata": {},
     "output_type": "execute_result"
    }
   ],
   "source": [
    "from pyngrok import ngrok\n",
    "\n",
    "ngrok_tunnel = ngrok.connect(3000)\n",
    "\n",
    "ngrok_tunnel"
   ],
   "metadata": {
    "collapsed": false,
    "pycharm": {
     "name": "#%%\n"
    }
   }
  },
  {
   "cell_type": "code",
   "execution_count": 303,
   "outputs": [
    {
     "name": "stderr",
     "output_type": "stream",
     "text": [
      "INFO:     Started server process [94722]\n",
      "INFO:     Waiting for application startup.\n",
      "INFO:     Application startup complete.\n",
      "INFO:     Uvicorn running on http://127.0.0.1:3000 (Press CTRL+C to quit)\n"
     ]
    },
    {
     "name": "stdout",
     "output_type": "stream",
     "text": [
      "INFO:     127.0.0.1:62598 - \"GET /docs HTTP/1.1\" 200 OK\n",
      "INFO:     127.0.0.1:62598 - \"GET /openapi.json HTTP/1.1\" 200 OK\n",
      "INFO:     127.0.0.1:62599 - \"GET /2018 HTTP/1.1\" 200 OK\n",
      "INFO:     127.0.0.1:62621 - \"GET /2018 HTTP/1.1\" 200 OK\n",
      "INFO:     127.0.0.1:62629 - \"GET /team/1610612744 HTTP/1.1\" 200 OK\n",
      "INFO:     127.0.0.1:62642 - \"GET /team/1610612744/arena HTTP/1.1\" 200 OK\n",
      "INFO:     127.0.0.1:62678 - \"GET /2018/team/1610612744/coach HTTP/1.1\" 200 OK\n",
      "INFO:     127.0.0.1:62705 - \"GET /2018 HTTP/1.1\" 200 OK\n",
      "INFO:     127.0.0.1:62711 - \"GET /2018/1610612744/players HTTP/1.1\" 200 OK\n",
      "INFO:     127.0.0.1:62736 - \"GET /2018/1610612744/133/stats HTTP/1.1\" 200 OK\n",
      "INFO:     127.0.0.1:62750 - \"GET /2018/1610612744/stats HTTP/1.1\" 200 OK\n"
     ]
    },
    {
     "name": "stderr",
     "output_type": "stream",
     "text": [
      "INFO:     Shutting down\n",
      "INFO:     Waiting for application shutdown.\n",
      "INFO:     Application shutdown complete.\n",
      "INFO:     Finished server process [94722]\n"
     ]
    }
   ],
   "source": [
    "import nest_asyncio\n",
    "import uvicorn\n",
    "\n",
    "nest_asyncio.apply()\n",
    "uvicorn.run(app, port=3000)"
   ],
   "metadata": {
    "collapsed": false,
    "pycharm": {
     "name": "#%%\n"
    }
   }
  },
  {
   "cell_type": "code",
   "execution_count": null,
   "outputs": [],
   "source": [],
   "metadata": {
    "collapsed": false,
    "pycharm": {
     "name": "#%%\n"
    }
   }
  }
 ],
 "metadata": {
  "kernelspec": {
   "display_name": "Python 3",
   "language": "python",
   "name": "python3"
  },
  "language_info": {
   "codemirror_mode": {
    "name": "ipython",
    "version": 2
   },
   "file_extension": ".py",
   "mimetype": "text/x-python",
   "name": "python",
   "nbconvert_exporter": "python",
   "pygments_lexer": "ipython2",
   "version": "2.7.6"
  }
 },
 "nbformat": 4,
 "nbformat_minor": 0
}