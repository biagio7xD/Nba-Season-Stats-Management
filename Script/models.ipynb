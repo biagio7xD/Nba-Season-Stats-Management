{
 "cells": [
  {
   "cell_type": "markdown",
   "source": [
    "# NBA Season Stats Management"
   ],
   "metadata": {
    "collapsed": false,
    "pycharm": {
     "name": "#%% md\n"
    }
   }
  },
  {
   "cell_type": "code",
   "execution_count": 220,
   "outputs": [],
   "source": [
    "import asyncio\n",
    "import pandas as pd\n",
    "from pony.orm import *"
   ],
   "metadata": {
    "collapsed": false,
    "pycharm": {
     "name": "#%%\n"
    }
   }
  },
  {
   "cell_type": "markdown",
   "source": [
    "## Create the database connection"
   ],
   "metadata": {
    "collapsed": false,
    "pycharm": {
     "name": "#%% md\n"
    }
   }
  },
  {
   "cell_type": "code",
   "execution_count": 221,
   "outputs": [],
   "source": [
    "db = Database()\n",
    "# PostgreSQL\n",
    "db.bind(provider='postgres', user='postgres', password='05041997', host='localhost', database='nba')"
   ],
   "metadata": {
    "collapsed": false,
    "pycharm": {
     "name": "#%%\n"
    }
   }
  },
  {
   "cell_type": "markdown",
   "source": [
    "## Map All the entity of logical model through PonyORM"
   ],
   "metadata": {
    "collapsed": false,
    "pycharm": {
     "name": "#%% md\n"
    }
   }
  },
  {
   "cell_type": "code",
   "execution_count": 222,
   "outputs": [],
   "source": [
    "from datetime import date\n",
    "\n",
    "\n",
    "class Arena(db.Entity):\n",
    "    id = PrimaryKey(int, auto=True)\n",
    "    name = Required(str,30)\n",
    "    capacity = Optional(int, nullable=True)\n",
    "    city = Optional(str,50, nullable=True)\n",
    "    team = Optional(lambda : Team)\n",
    "\n",
    "class Season(db.Entity):\n",
    "    season = PrimaryKey(int)\n",
    "    start_date = Required(date, unique=False)\n",
    "    end_date = Required(date, unique=False)\n",
    "    team_season = Set(lambda : Team_Season)\n",
    "\n",
    "class Team_Season(db.Entity):\n",
    "    season = Required(Season)\n",
    "    team = Required(lambda : Team)\n",
    "    coach = Optional(lambda : Coach)\n",
    "    stats = Optional(lambda : TeamStats, cascade_delete=True)\n",
    "    player = Set(lambda : Player)\n",
    "    PrimaryKey(season, team)\n",
    "\n",
    "class Team(db.Entity):\n",
    "    id = PrimaryKey(int, auto=True)\n",
    "    name = Required(str, 50, unique=True, nullable=False)\n",
    "    abbr = Optional(str, 5, unique=False, nullable=False)\n",
    "    nickname = Optional(str, 50, unique=False, nullable=False)\n",
    "    year_founded = Optional(int, unique=False)\n",
    "    staff = Optional(lambda : Staff)\n",
    "    arena = Optional(lambda : Arena)\n",
    "    team_season = Set(lambda : Team_Season)\n",
    "\n",
    "class Player(db.Entity):\n",
    "    name = Required(str, 25, unique=False, nullable=False)\n",
    "    age = Optional(int)\n",
    "    team_season = Optional(lambda : Team_Season)\n",
    "    position = Optional(str, 30, nullable=True)\n",
    "    player_stats = Optional(lambda : PlayerStats, cascade_delete=True)\n",
    "\n",
    "class Coach(db.Entity):\n",
    "    name = Required(str, 25, unique=False, nullable=False)\n",
    "    team_season = Required(Team_Season, unique=False)\n",
    "    coach_stats = Optional(lambda : CoachStats, cascade_delete=True, unique=False)\n",
    "    PrimaryKey(name, team_season)\n",
    "\n",
    "class Staff(db.Entity):\n",
    "    id = PrimaryKey(int, auto=True)\n",
    "    owner = Required(str, 40, unique=False)\n",
    "    manager = Optional(str, 25)\n",
    "    team = Required(Team)\n",
    "\n",
    "class TeamStats(db.Entity):\n",
    "    id = PrimaryKey(int, size=8, auto=True)\n",
    "    ELO = Required(float)\n",
    "    FG_PCT = Required(float)\n",
    "    FG3_PCT = Required(float)\n",
    "    FGA = Required(float)\n",
    "    FGM = Required(float)\n",
    "    FG3M = Required(float)\n",
    "    FG3A = Required(float)\n",
    "    FG2M = Required(float)\n",
    "    FG2A = Required(float)\n",
    "    FG_MISSED = Required(float)\n",
    "    FT_MISSED = Required(float)\n",
    "    FTM = Required(float)\n",
    "    FT_PCT = Required(float)\n",
    "    FTA = Required(float)\n",
    "    ORB = Required(float)\n",
    "    DRB = Required(float)\n",
    "    AST = Required(float)\n",
    "    STL = Required(float)\n",
    "    BLK = Required(float)\n",
    "    TO = Required(float)\n",
    "    PF = Required(float)\n",
    "    EFFICACY = Required(float)\n",
    "    PIE = Required(float)\n",
    "    POSS = Required(float)\n",
    "    PACE = Required(float)\n",
    "    PTS = Required(float)\n",
    "    team = Optional(Team_Season)\n",
    "\n",
    "\n",
    "class PlayerStats(db.Entity):\n",
    "    id = PrimaryKey(int, auto=True)\n",
    "    GMS = Required(int)\n",
    "    GStart = Required(int)\n",
    "    MP = Required(int)\n",
    "    FG = Required(int)\n",
    "    FGA = Required(int)\n",
    "    FGP = Required(float)\n",
    "    ThreeP = Required(int)\n",
    "    ThreePA = Required(int)\n",
    "    ThreePP = Required(float)\n",
    "    TwoP = Required(float)\n",
    "    TwoPA = Required(float)\n",
    "    TwoPP = Required(float)\n",
    "    eFGP = Required(float)\n",
    "    FT = Required(float)\n",
    "    FTA = Required(float)\n",
    "    FTP = Optional(float)\n",
    "    ORB = Required(float)\n",
    "    DRB = Required(float)\n",
    "    TRB = Required(float)\n",
    "    AST = Required(float)\n",
    "    STL = Required(float)\n",
    "    BLK = Required(float)\n",
    "    TOV = Required(float)\n",
    "    PF = Required(float)\n",
    "    PTS = Required(float)\n",
    "    player = Optional(Player)\n",
    "\n",
    "class CoachStats(db.Entity):\n",
    "    id = PrimaryKey(int, auto=True)\n",
    "    SeasG = Required(int)\n",
    "    SeasW = Required(int)\n",
    "    SeasL = Optional(float)\n",
    "    FranG = Required(int)\n",
    "    FranW = Required(int)\n",
    "    FranL = Required(int)\n",
    "    CareW = Required(int)\n",
    "    CareL = Required(int)\n",
    "    CareWP = Required(float)\n",
    "    POSeasG = Required(float)\n",
    "    POSeasW = Required(float)\n",
    "    POSeasL = Required(float)\n",
    "    POFranW = Required(float)\n",
    "    POFranG = Required(float)\n",
    "    POFranL = Required(float)\n",
    "    POCareG = Required(float)\n",
    "    POCareW = Required(float)\n",
    "    POCareL = Required(float)\n",
    "    coach = Optional(Coach)\n",
    "\n",
    "db.generate_mapping(create_tables=True)"
   ],
   "metadata": {
    "collapsed": false,
    "pycharm": {
     "name": "#%%\n"
    }
   }
  },
  {
   "cell_type": "markdown",
   "source": [
    "## Let's populate the database schema just created"
   ],
   "metadata": {
    "collapsed": false,
    "pycharm": {
     "name": "#%% md\n"
    }
   }
  },
  {
   "cell_type": "code",
   "execution_count": 223,
   "outputs": [],
   "source": [
    "full = pd.read_csv(\"../CSV_Files/nba2019.csv\")\n",
    "playerdf = pd.read_csv(\"../CSV_Files/player.csv\")"
   ],
   "metadata": {
    "collapsed": false,
    "pycharm": {
     "name": "#%%\n"
    }
   }
  },
  {
   "cell_type": "markdown",
   "source": [
    "## Insert season 2019"
   ],
   "metadata": {
    "collapsed": false,
    "pycharm": {
     "name": "#%% md\n"
    }
   }
  },
  {
   "cell_type": "code",
   "execution_count": 224,
   "outputs": [],
   "source": [
    "# Def used to insert a team from processed data into database\n",
    "def insert_team(data):\n",
    "    return Team(id=data['Team_ID'], name=data['Name'], abbr=data['Abbr'], year_founded=data['Year_Founded'], nickname = data['Nickname'])\n",
    "\n",
    "def insert_team_season(season, team, team_stats):\n",
    "    return Team_Season(season = season, team = team, stats = team_stats)\n",
    "\n",
    "def insert_arena(data, team):\n",
    "    return Arena(name=data['Arena'], city=data['City'], capacity = data['Capacity'], team = team)\n",
    "\n",
    "def insert_staff(data, team):\n",
    "    return Staff(owner = data['Owner'], manager = data['Manager'], team = team)\n",
    "\n",
    "# def used to insert team stats into a database\n",
    "def insert_team_stats(data):\n",
    "    stats = TeamStats(\n",
    "        ELO = data['ELO_BEFORE'],\n",
    "        FG_PCT = data['FG_PCT'],\n",
    "        FG3_PCT = data['FG3_PCT'],\n",
    "        FGA = data['FGA'],\n",
    "        FGM = data['FGM'],\n",
    "        FG3M = data['FG3M'],\n",
    "        FG3A = data['FG3A'],\n",
    "        FG2M = data['FG2M'],\n",
    "        FG2A = data['FG2A'],\n",
    "        FG_MISSED = data['FG_MISSED'],\n",
    "        FT_MISSED = data['FT_MISSED'],\n",
    "        FTM = data['FTM'],\n",
    "        FT_PCT = data['FT_PCT'],\n",
    "        FTA = data['FTA'],\n",
    "        ORB = data['OREB'],\n",
    "        DRB = data['DREB'],\n",
    "        AST = data['AST'],\n",
    "        STL = data['STL'],\n",
    "        BLK = data['BLK'],\n",
    "        TO = data['TO'],\n",
    "        PF = data['PF'],\n",
    "        EFFICACY = data['EFFICACY'],\n",
    "        PIE = data['PIE'],\n",
    "        POSS = data['POSS'],\n",
    "        PACE = data['PACE'],\n",
    "        PTS = data['PTS'],\n",
    "    )\n",
    "    return stats\n",
    "\n",
    "# def used to insert a coach into a database\n",
    "def insert_coach(data, tm):\n",
    "    coach = Coach(\n",
    "        name = data['Coach_Name'],\n",
    "        team_season = tm\n",
    "    )\n",
    "    return coach\n",
    "\n",
    "# def used to insert coach stats into a database e set relationship with a coach\n",
    "def insert_coach_stats(data, coach: Coach):\n",
    "    stats = CoachStats(\n",
    "    SeasG = data['SeasG'],\n",
    "    SeasW = data['SeasW'],\n",
    "    SeasL = data['SeasL'],\n",
    "    FranG = data['FranG'],\n",
    "    FranW = data['FranW'],\n",
    "    FranL = data['FranL'],\n",
    "    CareW = data['CareW'],\n",
    "    CareL = data['CareL'],\n",
    "    CareWP = data['CareWP'],\n",
    "    POSeasG = data['POSeasG'],\n",
    "    POSeasW = data['POSeasW'],\n",
    "    POSeasL = data['POSeasL'],\n",
    "    POFranW = data['POFranW'],\n",
    "    POFranG = data['POFranG'],\n",
    "    POFranL = data['POFranL'],\n",
    "    POCareG = data['POCareG'],\n",
    "    POCareW = data['POCareW'],\n",
    "    POCareL = data['POCareL'],\n",
    "    coach = coach\n",
    "    )\n",
    "    return stats\n"
   ],
   "metadata": {
    "collapsed": false,
    "pycharm": {
     "name": "#%%\n"
    }
   }
  },
  {
   "cell_type": "code",
   "execution_count": 225,
   "outputs": [],
   "source": [
    "# def used to insert coach stats into a database e set relationship with a coach\n",
    "def insert_coach_stats_new(coach : Coach):\n",
    "    stats = CoachStats(\n",
    "        SeasG = coach.coach_stats.SeasG,\n",
    "        SeasW = coach.coach_stats.SeasW,\n",
    "        SeasL = coach.coach_stats.SeasL,\n",
    "        FranG = coach.coach_stats.FranG,\n",
    "        FranW = coach.coach_stats.FranW,\n",
    "        FranL = coach.coach_stats.FranL,\n",
    "        CareW = coach.coach_stats.CareW,\n",
    "        CareL = coach.coach_stats.CareL,\n",
    "        CareWP = coach.coach_stats.CareWP,\n",
    "        POSeasG = coach.coach_stats.POSeasG,\n",
    "        POSeasW = coach.coach_stats.POSeasW,\n",
    "        POSeasL = coach.coach_stats.POSeasL,\n",
    "        POFranW = coach.coach_stats.POFranW,\n",
    "        POFranG = coach.coach_stats.POFranG,\n",
    "        POFranL = coach.coach_stats.POFranL,\n",
    "        POCareG = coach.coach_stats.POCareG,\n",
    "        POCareW = coach.coach_stats.POCareW,\n",
    "        POCareL = coach.coach_stats.POCareL,\n",
    "    )\n",
    "    return stats"
   ],
   "metadata": {
    "collapsed": false,
    "pycharm": {
     "name": "#%%\n"
    }
   }
  },
  {
   "cell_type": "code",
   "execution_count": 226,
   "outputs": [],
   "source": [
    "season = Season(season = 2018, start_date = date(2018, 10, 22), end_date = date(2019, 4, 10))\n",
    "season20 = Season(season = 2019, start_date = date(2019,10, 22), end_date= date(2020,10,11))\n",
    "commit()"
   ],
   "metadata": {
    "collapsed": false,
    "pycharm": {
     "name": "#%%\n"
    }
   }
  },
  {
   "cell_type": "code",
   "execution_count": 227,
   "outputs": [],
   "source": [
    "\n",
    "for index, row in full.iterrows():\n",
    "    team = insert_team(row)\n",
    "    arena = insert_arena(row, team)\n",
    "    staff = insert_staff(row, team)\n",
    "    team_stats = insert_team_stats(row)\n",
    "    team.staff = staff\n",
    "    team.arena = arena\n",
    "    team_season = Team_Season(season=season, team=team, stats=team_stats)\n",
    "    coach = insert_coach(row, team_season)\n",
    "    coach_stats = insert_coach_stats(row, coach)\n",
    "    coach.coach_stats = coach_stats\n",
    "    commit()\n"
   ],
   "metadata": {
    "collapsed": false,
    "pycharm": {
     "name": "#%%\n"
    }
   }
  },
  {
   "cell_type": "code",
   "execution_count": 228,
   "outputs": [],
   "source": [
    "stats20 = pd.read_csv(\"../CSV_Files/nba_2020.csv\")"
   ],
   "metadata": {
    "collapsed": false,
    "pycharm": {
     "name": "#%%\n"
    }
   }
  },
  {
   "cell_type": "code",
   "execution_count": 229,
   "outputs": [],
   "source": [
    "for index, row in stats20.iterrows():\n",
    "    team = Team.select(lambda tm: tm.id == row['TEAM_ID']).get()\n",
    "    ts = Team_Season.select(lambda tms : tms.team.id == row['TEAM_ID']).get()\n",
    "    stats = insert_team_stats(row)\n",
    "    tm_season = Team_Season(season=season20, team=team, stats=stats)\n",
    "    coach = Coach(name= ts.coach.name, team_season=tm_season)\n",
    "    coach_stats = insert_coach_stats_new(ts.coach)\n",
    "    coach_stats.coach = coach\n",
    "    coach.coach_stats = coach_stats\n",
    "    commit()"
   ],
   "metadata": {
    "collapsed": false,
    "pycharm": {
     "name": "#%%\n"
    }
   }
  },
  {
   "cell_type": "code",
   "execution_count": 230,
   "outputs": [],
   "source": [
    "def insert_player(data):\n",
    "    player = Player(\n",
    "        name = data['Name'],\n",
    "        position =  data['Pos'],\n",
    "        age = data['Age'],\n",
    "        team_season = Team_Season.select(lambda tm : tm.team.id == data['TEAM_ID'] and tm.season.season == 2018).get()\n",
    "    )\n",
    "    return player\n",
    "\n",
    "def insert_player_stats(data, player):\n",
    "    stats = PlayerStats(\n",
    "        GMS = data['Gms'],\n",
    "        GStart = data['Gstart'],\n",
    "        MP = data['MP'],\n",
    "        FG = data['FG'],\n",
    "        FGA = data['FGA'],\n",
    "        FGP = data['FGP'],\n",
    "        ThreeP = data['ThreeP'],\n",
    "        ThreePA = data['ThreePA'],\n",
    "        ThreePP = data['ThreePP'],\n",
    "        TwoP = data['TwoP'],\n",
    "        TwoPA = data['TwoPA'],\n",
    "        TwoPP = data['TwoPP'],\n",
    "        eFGP = data['eFGP'],\n",
    "        FT = data['FT'],\n",
    "        FTA = data['FTA'],\n",
    "        FTP = data['FTP'],\n",
    "        ORB = data['ORB'],\n",
    "        DRB = data['DRB'],\n",
    "        TRB = data['TRB'],\n",
    "        AST = data['AST'],\n",
    "        STL = data['STL'],\n",
    "        BLK = data['BLK'],\n",
    "        TOV = data['TOV'],\n",
    "        PF = data['PF'],\n",
    "        PTS = data['PTS'],\n",
    "        player = player\n",
    "    )\n",
    "    return stats\n"
   ],
   "metadata": {
    "collapsed": false,
    "pycharm": {
     "name": "#%%\n"
    }
   }
  },
  {
   "cell_type": "code",
   "execution_count": 231,
   "outputs": [],
   "source": [
    "for index, row in playerdf.iterrows():\n",
    "    player = insert_player(row)\n",
    "    stats = insert_player_stats(row, player)\n",
    "    player.stats = stats\n",
    "    tm = Team_Season.select(lambda t: t.team.id == row['TEAM_ID'] and t.season.season == 2018).get()\n",
    "    tm.player.add(player)\n",
    "    commit()"
   ],
   "metadata": {
    "collapsed": false,
    "pycharm": {
     "name": "#%%\n"
    }
   }
  },
  {
   "cell_type": "code",
   "execution_count": 232,
   "outputs": [
    {
     "name": "stdout",
     "output_type": "stream",
     "text": [
      "season      |team            |coach                               |stats        \n",
      "------------+----------------+------------------------------------+-------------\n",
      "Season[2018]|Team[1610612747]|Coach['Luke Walton',Team_Season[S...|TeamStats[11]\n"
     ]
    }
   ],
   "source": [
    "Team_Season.select(lambda t: t.team.id == row['TEAM_ID'] and t.season.season == 2018).show()"
   ],
   "metadata": {
    "collapsed": false,
    "pycharm": {
     "name": "#%%\n"
    }
   }
  },
  {
   "cell_type": "code",
   "execution_count": 233,
   "outputs": [
    {
     "name": "stdout",
     "output_type": "stream",
     "text": [
      "id |name             |age|team_season                 |position|player_stats    \n",
      "---+-----------------+---+----------------------------+--------+----------------\n",
      "14 |Ryan Anderson    |29 |Team_Season[Season[2018],...|PF      |PlayerStats[14] \n",
      "20 |Trevor Ariza     |32 |Team_Season[Season[2018],...|SF      |PlayerStats[20] \n",
      "53 |Tarik Black      |26 |Team_Season[Season[2018],...|C       |PlayerStats[53] \n",
      "77 |Bobby Brown      |33 |Team_Season[Season[2018],...|PG      |PlayerStats[77] \n",
      "80 |Markel Brown     |26 |Team_Season[Season[2018],...|SG      |PlayerStats[80] \n",
      "93 |Isaiah Canaan    |26 |Team_Season[Season[2018],...|PG-SG   |PlayerStats[93] \n",
      "95 |Clint Capela     |23 |Team_Season[Season[2018],...|C       |PlayerStats[95] \n",
      "199|Eric Gordon      |29 |Team_Season[Season[2018],...|SG      |PlayerStats[199]\n",
      "207|Gerald Green     |32 |Team_Season[Season[2018],...|SG      |PlayerStats[207]\n",
      "214|James Harden     |28 |Team_Season[Season[2018],...|SG      |PlayerStats[214]\n",
      "241|Nene Hilario     |35 |Team_Season[Season[2018],...|C       |PlayerStats[241]\n",
      "258|R.J. Hunter      |24 |Team_Season[Season[2018],...|SG      |PlayerStats[258]\n",
      "271|Aaron Jackson    |31 |Team_Season[Season[2018],...|PG      |PlayerStats[271]\n",
      "272|Demetrius Jackson|23 |Team_Season[Season[2018],...|PG      |PlayerStats[272]\n",
      "290|Joe Johnson      |36 |Team_Season[Season[2018],...|SF      |PlayerStats[290]\n",
      "358|Luc Mbah a Moute |31 |Team_Season[Season[2018],...|PF      |PlayerStats[358]\n",
      "432|Chinanu Onuaku   |21 |Team_Season[Season[2018],...|C       |PlayerStats[432]\n",
      "445|Chris Paul       |32 |Team_Season[Season[2018],...|PG      |PlayerStats[445]\n",
      "468|Zhou Qi          |22 |Team_Season[Season[2018],...|C       |PlayerStats[468]\n",
      "469|Tim Quarterman   |23 |Team_Season[Season[2018],...|SG      |PlayerStats[469]\n",
      "541|P.J. Tucker      |32 |Team_Season[Season[2018],...|PF      |PlayerStats[541]\n",
      "567|Briante Weber    |25 |Team_Season[Season[2018],...|PG      |PlayerStats[567]\n",
      "585|Troy Williams    |23 |Team_Season[Season[2018],...|SF      |PlayerStats[585]\n",
      "593|Brandan Wright   |30 |Team_Season[Season[2018],...|PF      |PlayerStats[593]\n"
     ]
    }
   ],
   "source": [
    "from pony.orm.serialization import to_dict\n",
    "Player.select(lambda p: p.team_season.team.id == 1610612745 and p.team_season.season.season == 2018).show()"
   ],
   "metadata": {
    "collapsed": false,
    "pycharm": {
     "name": "#%%\n"
    }
   }
  },
  {
   "cell_type": "markdown",
   "source": [
    "## CRUD Operation on data"
   ],
   "metadata": {
    "collapsed": false,
    "pycharm": {
     "name": "#%% md\n"
    }
   }
  },
  {
   "cell_type": "code",
   "execution_count": 296,
   "outputs": [],
   "source": [
    "@db_session\n",
    "def get_all_team_of_season(season:int):\n",
    "    return Team_Season.select(lambda tm : tm.season.season == season)\n",
    "\n",
    "@db_session\n",
    "def get_all_season():\n",
    "    return Season.select()\n",
    "\n",
    "@db_session\n",
    "def get_team(idx:int):\n",
    "    return Team.select(lambda t: t.id == idx).get()\n",
    "\n",
    "@db_session\n",
    "def get_team_stats(idx:int, season:int):\n",
    "    return TeamStats.select(lambda ts: ts.team.team.id == idx and ts.team.season.season == season).get()\n",
    "\n",
    "@db_session\n",
    "def get_coach(idx:int, season:int):\n",
    "    return Coach.select(lambda c: c.team_season.team.id == idx and c.team_season.season.season == season ).get()\n",
    "\n",
    "@db_session\n",
    "def get_coach_stats(idx:str):\n",
    "    return CoachStats.select(lambda c: c.coach.name == idx).get()\n",
    "\n",
    "@db_session\n",
    "def get_players(idx:int, season:int):\n",
    "    return Player.select(lambda p: p.team_season.team.id == idx and p.team_season.season.season == season)\n",
    "\n",
    "@db_session\n",
    "def get_player_stats(idx:int):\n",
    "    return PlayerStats.select(lambda ps: ps.player.id == idx).get()\n",
    "\n",
    "@db_session\n",
    "def get_team_staff(idx:int):\n",
    "    return Staff.select(lambda s : s.team.id == idx).get()\n",
    "\n",
    "@db_session\n",
    "def get_arena(idx:int):\n",
    "    return Arena.select(lambda a : a.team.id == idx).get()\n",
    "\n",
    "def get_max_capacity_arena():\n",
    "    return Arena.select().order_by(desc(Arena.capacity))[:5]"
   ],
   "metadata": {
    "collapsed": false,
    "pycharm": {
     "name": "#%%\n"
    }
   }
  },
  {
   "cell_type": "code",
   "execution_count": 297,
   "outputs": [],
   "source": [
    "## Implementation of FastAPI to create API of nba data"
   ],
   "metadata": {
    "collapsed": false,
    "pycharm": {
     "name": "#%%\n"
    }
   }
  },
  {
   "cell_type": "code",
   "execution_count": 301,
   "outputs": [],
   "source": [
    "from fastapi import FastAPI, Request\n",
    "from pydantic import BaseModel\n",
    "from loguru import logger\n",
    "from pony.orm.serialization import to_dict\n",
    "\n",
    "app = FastAPI()\n",
    "\n",
    "@app.get(\"/team/{teamID}/arena\")\n",
    "@db_session\n",
    "def g_arena(teamID:int):\n",
    "    arena = get_arena(teamID)\n",
    "    return {\n",
    "        'city' : arena.city,\n",
    "        'name': arena.name,\n",
    "        'capacity': arena.capacity\n",
    "    }\n",
    "\n",
    "@app.get(\"/team/{teamID}/staff\")\n",
    "@db_session\n",
    "def g_staff(teamID:int):\n",
    "    staff = get_team_staff(teamID)\n",
    "    return {\n",
    "        'owner' : staff.owner,\n",
    "        'manager': staff.manager,\n",
    "    }\n",
    "\n",
    "@app.get('/team/{idx}')\n",
    "@db_session\n",
    "def g_team(idx:int, request:Request):\n",
    "    el = get_team(idx)\n",
    "    data = {\n",
    "        'id' : el.id,\n",
    "        'name': el.name,\n",
    "        'abbr': el.abbr,\n",
    "        'nickname' : el.nickname,\n",
    "        'year_founded' : el.year_founded,\n",
    "        'arena' : request.url_for(\"g_arena\", teamID=el.id),\n",
    "        'staff': request.url_for(\"g_staff\", teamID=el.id)\n",
    "    }\n",
    "\n",
    "    return data\n",
    "\n",
    "@app.get(\"/{coach}/stats\")\n",
    "@db_session\n",
    "def g_coach_stats(coach:str):\n",
    "    c = get_coach_stats(coach)\n",
    "    data = {}\n",
    "    for key,value in c.to_dict().items():\n",
    "        if key == \"coach\" or key == \"id\":\n",
    "            continue\n",
    "        data[key] = value\n",
    "    return data\n",
    "\n",
    "@app.get(\"/{season}/team/{teamID}/coach\")\n",
    "@db_session\n",
    "def g_coach(teamID:int, season:int, request:Request):\n",
    "    c = get_coach(teamID, season)\n",
    "    return {\n",
    "        \"name\" : c.name,\n",
    "        \"stats\" : request.url_for('g_coach_stats', coach=c.name)\n",
    "    }\n",
    "\n",
    "@app.get(\"/{season}/{teamID}/stats\")\n",
    "@db_session\n",
    "def g_team_stats(season:int, teamID:int):\n",
    "    c = get_team_stats(teamID, season)\n",
    "    data = {}\n",
    "    for key,value in c.to_dict().items():\n",
    "        if key == \"team\" or key == \"id\":\n",
    "            continue\n",
    "        data[key] = value\n",
    "    return data\n",
    "\n",
    "@app.get(\"/{season}/{teamID}/{playerID}/stats\")\n",
    "@db_session\n",
    "def g_player_stats(season:int, teamID:int, playerID:int):\n",
    "    ps = get_player_stats(playerID)\n",
    "    data = {}\n",
    "    for key,value in ps.to_dict().items():\n",
    "        if key == \"player\":\n",
    "            continue\n",
    "        data[key] = value\n",
    "    return data\n",
    "\n",
    "@app.get(\"/{season}/{teamID}/players\")\n",
    "@db_session\n",
    "def g_players(season:int, teamID:int, request:Request):\n",
    "    p = get_players(teamID, season)\n",
    "    data = []\n",
    "    for el in p:\n",
    "        data.append({\n",
    "            'name' : el.name,\n",
    "            'age' : el.age,\n",
    "            'position' : el.position,\n",
    "            'stats' : request.url_for('g_player_stats', season=season, teamID=teamID, playerID=el.id)\n",
    "        })\n",
    "    return data\n",
    "\n",
    "@app.get(\"/{season}\")\n",
    "@db_session\n",
    "def all_season(request: Request, season:int):\n",
    "    season_team = get_all_team_of_season(2018)\n",
    "    data = []\n",
    "    for el in season_team:\n",
    "        data.append({\n",
    "            'Team' : el.team.name,\n",
    "            'team_info' : request.url_for(\"g_team\", idx=el.team.id),\n",
    "            'stats' : request.url_for('g_team_stats', teamID=el.team.id, season=el.season.season),\n",
    "            'coach' : request.url_for('g_coach', teamID=el.team.id, season=el.season.season),\n",
    "            'players' : request.url_for('g_players', teamID=el.team.id, season=el.season.season)\n",
    "\n",
    "        })\n",
    "    return data"
   ],
   "metadata": {
    "collapsed": false,
    "pycharm": {
     "name": "#%%\n"
    }
   }
  },
  {
   "cell_type": "code",
   "execution_count": 302,
   "outputs": [
    {
     "data": {
      "text/plain": "<NgrokTunnel: \"http://2027-185-63-103-73.ngrok.io\" -> \"http://localhost:3000\">"
     },
     "execution_count": 302,
     "metadata": {},
     "output_type": "execute_result"
    }
   ],
   "source": [
    "from pyngrok import ngrok\n",
    "\n",
    "ngrok_tunnel = ngrok.connect(3000)\n",
    "\n",
    "ngrok_tunnel"
   ],
   "metadata": {
    "collapsed": false,
    "pycharm": {
     "name": "#%%\n"
    }
   }
  },
  {
   "cell_type": "code",
   "execution_count": 303,
   "outputs": [
    {
     "name": "stderr",
     "output_type": "stream",
     "text": [
      "INFO:     Started server process [94722]\n",
      "INFO:     Waiting for application startup.\n",
      "INFO:     Application startup complete.\n",
      "INFO:     Uvicorn running on http://127.0.0.1:3000 (Press CTRL+C to quit)\n"
     ]
    },
    {
     "name": "stdout",
     "output_type": "stream",
     "text": [
      "INFO:     127.0.0.1:62598 - \"GET /docs HTTP/1.1\" 200 OK\n",
      "INFO:     127.0.0.1:62598 - \"GET /openapi.json HTTP/1.1\" 200 OK\n",
      "INFO:     127.0.0.1:62599 - \"GET /2018 HTTP/1.1\" 200 OK\n",
      "INFO:     127.0.0.1:62621 - \"GET /2018 HTTP/1.1\" 200 OK\n",
      "INFO:     127.0.0.1:62629 - \"GET /team/1610612744 HTTP/1.1\" 200 OK\n",
      "INFO:     127.0.0.1:62642 - \"GET /team/1610612744/arena HTTP/1.1\" 200 OK\n",
      "INFO:     127.0.0.1:62678 - \"GET /2018/team/1610612744/coach HTTP/1.1\" 200 OK\n",
      "INFO:     127.0.0.1:62705 - \"GET /2018 HTTP/1.1\" 200 OK\n",
      "INFO:     127.0.0.1:62711 - \"GET /2018/1610612744/players HTTP/1.1\" 200 OK\n",
      "INFO:     127.0.0.1:62736 - \"GET /2018/1610612744/133/stats HTTP/1.1\" 200 OK\n",
      "INFO:     127.0.0.1:62750 - \"GET /2018/1610612744/stats HTTP/1.1\" 200 OK\n"
     ]
    },
    {
     "name": "stderr",
     "output_type": "stream",
     "text": [
      "INFO:     Shutting down\n",
      "INFO:     Waiting for application shutdown.\n",
      "INFO:     Application shutdown complete.\n",
      "INFO:     Finished server process [94722]\n"
     ]
    }
   ],
   "source": [
    "import nest_asyncio\n",
    "import uvicorn\n",
    "\n",
    "nest_asyncio.apply()\n",
    "uvicorn.run(app, port=3000)"
   ],
   "metadata": {
    "collapsed": false,
    "pycharm": {
     "name": "#%%\n"
    }
   }
  },
  {
   "cell_type": "code",
   "execution_count": null,
   "outputs": [],
   "source": [],
   "metadata": {
    "collapsed": false,
    "pycharm": {
     "name": "#%%\n"
    }
   }
  }
 ],
 "metadata": {
  "kernelspec": {
   "display_name": "Python 3",
   "language": "python",
   "name": "python3"
  },
  "language_info": {
   "codemirror_mode": {
    "name": "ipython",
    "version": 2
   },
   "file_extension": ".py",
   "mimetype": "text/x-python",
   "name": "python",
   "nbconvert_exporter": "python",
   "pygments_lexer": "ipython2",
   "version": "2.7.6"
  }
 },
 "nbformat": 4,
 "nbformat_minor": 0
}