{
 "cells": [
  {
   "cell_type": "markdown",
   "source": [
    "# NBA Season Stats Management"
   ],
   "metadata": {
    "collapsed": false,
    "pycharm": {
     "name": "#%% md\n"
    }
   }
  },
  {
   "cell_type": "code",
   "execution_count": 1,
   "outputs": [],
   "source": [
    "import asyncio\n",
    "import pandas as pd\n",
    "from pony.orm import *"
   ],
   "metadata": {
    "collapsed": false,
    "pycharm": {
     "name": "#%%\n"
    }
   }
  },
  {
   "cell_type": "markdown",
   "source": [
    "## Create the database connection"
   ],
   "metadata": {
    "collapsed": false,
    "pycharm": {
     "name": "#%% md\n"
    }
   }
  },
  {
   "cell_type": "code",
   "execution_count": 99,
   "outputs": [],
   "source": [
    "db = Database()\n",
    "# PostgreSQL\n",
    "db.bind(provider='postgres', user='postgres', password='05041997', host='localhost', database='nba')"
   ],
   "metadata": {
    "collapsed": false,
    "pycharm": {
     "name": "#%%\n"
    }
   }
  },
  {
   "cell_type": "markdown",
   "source": [
    "## Map All the entity of logical model through PonyORM"
   ],
   "metadata": {
    "collapsed": false,
    "pycharm": {
     "name": "#%% md\n"
    }
   }
  },
  {
   "cell_type": "code",
   "execution_count": 3,
   "outputs": [],
   "source": [
    "class Team(db.Entity):\n",
    "    id = PrimaryKey(int, auto=True)\n",
    "    name = Required(str, 25, unique=True, nullable=False)\n",
    "    abbr = Required(str, 5, unique=False, nullable=False)\n",
    "    location = Optional(str, 25, nullable=True)\n",
    "    player = Set(lambda : Player)\n",
    "    stats = Optional(lambda : TeamStats, cascade_delete=True)\n",
    "    coach = Optional(lambda : Coach)\n",
    "\n",
    "\n",
    "class Player(db.Entity):\n",
    "    name = Required(str, 50)\n",
    "    position = Optional(str, 30, nullable=True)\n",
    "    age = Optional(int, size=8, nullable=True)\n",
    "    team = Optional(Team)\n",
    "    stats = Optional(lambda : PlayerStats, cascade_delete=True)\n",
    "\n",
    "class Coach(db.Entity):\n",
    "    name = PrimaryKey(str, 50)\n",
    "    team = Optional(Team)\n",
    "    stats = Optional(lambda : CoachStats, cascade_delete=True)\n",
    "\n",
    "\n",
    "class TeamStats(db.Entity):\n",
    "    id = PrimaryKey(int, size=8, auto=True)\n",
    "    G = Required(int)\n",
    "    MP = Required(int)\n",
    "    FG = Required(int)\n",
    "    FGA = Required(int)\n",
    "    FGP = Required(float)\n",
    "    ThreeP = Required(int)\n",
    "    ThreePA = Required(int)\n",
    "    ThreePP = Required(float)\n",
    "    TwoP = Required(int)\n",
    "    TwoPA = Required(int)\n",
    "    TwoPP = Required(float)\n",
    "    FT = Required(int)\n",
    "    FTA = Required(int)\n",
    "    FTP = Optional(float)\n",
    "    ORB = Required(int)\n",
    "    DRB = Required(int)\n",
    "    TRB = Required(int)\n",
    "    AST = Required(int)\n",
    "    STL = Required(int)\n",
    "    BLK = Required(int)\n",
    "    TOV = Required(int)\n",
    "    PF = Required(int)\n",
    "    PTS = Required(int)\n",
    "    team = Optional(Team, cascade_delete=True)\n",
    "\n",
    "\n",
    "class PlayerStats(db.Entity):\n",
    "    id = PrimaryKey(int, auto=True)\n",
    "    GMS = Required(int)\n",
    "    GStart = Required(int)\n",
    "    MP = Required(int)\n",
    "    FG = Required(int)\n",
    "    FGA = Required(int)\n",
    "    FGP = Required(float)\n",
    "    ThreeP = Required(int)\n",
    "    ThreePA = Required(int)\n",
    "    ThreePP = Required(float)\n",
    "    TwoP = Required(float)\n",
    "    TwoPA = Required(float)\n",
    "    TwoPP = Required(float)\n",
    "    eFGP = Required(float)\n",
    "    FT = Required(float)\n",
    "    FTA = Required(float)\n",
    "    FTP = Optional(float)\n",
    "    ORB = Required(float)\n",
    "    DRB = Required(float)\n",
    "    TRB = Required(float)\n",
    "    AST = Required(float)\n",
    "    STL = Required(float)\n",
    "    BLK = Required(float)\n",
    "    TOV = Required(float)\n",
    "    PF = Required(float)\n",
    "    PTS = Required(float)\n",
    "    player = Optional(Player)\n",
    "\n",
    "class CoachStats(db.Entity):\n",
    "    id = PrimaryKey(int, auto=True)\n",
    "    SeasG = Required(int)\n",
    "    SeasW = Required(int)\n",
    "    SeasL = Optional(float)\n",
    "    FranG = Required(int)\n",
    "    FranW = Required(int)\n",
    "    FranL = Required(int)\n",
    "    CareW = Required(int)\n",
    "    CareL = Required(int)\n",
    "    CareWP = Required(float)\n",
    "    POSeasG = Required(float)\n",
    "    POSeasW = Required(float)\n",
    "    POSeasL = Required(float)\n",
    "    POFranW = Required(float)\n",
    "    POFranG = Required(float)\n",
    "    POFranL = Required(float)\n",
    "    POCareG = Required(float)\n",
    "    POCareW = Required(float)\n",
    "    POCareL = Required(float)\n",
    "    coach = Optional(Coach)\n",
    "\n",
    "db.generate_mapping(create_tables=True)"
   ],
   "metadata": {
    "collapsed": false,
    "pycharm": {
     "name": "#%%\n"
    }
   }
  },
  {
   "cell_type": "markdown",
   "source": [
    "## Let's populate the database schema just created"
   ],
   "metadata": {
    "collapsed": false,
    "pycharm": {
     "name": "#%% md\n"
    }
   }
  },
  {
   "cell_type": "code",
   "execution_count": 4,
   "outputs": [],
   "source": [
    "full = pd.read_csv(\"../CSV_Files/full_team_coach_data.csv\", index_col=0)\n",
    "playerdf = pd.read_csv(\"../CSV_Files/full_player.csv\")"
   ],
   "metadata": {
    "collapsed": false,
    "pycharm": {
     "name": "#%%\n"
    }
   }
  },
  {
   "cell_type": "code",
   "execution_count": 5,
   "outputs": [],
   "source": [
    "# Def used to insert a team from processed data into database\n",
    "def insert_team(data):\n",
    "    team = Team(id=data['TeamID'], name=data['TeamName'], abbr=data['TeamAbbr'], location=data['Location'])\n",
    "    return team\n",
    "\n",
    "# def used to insert team stats into a database\n",
    "def insert_team_stats(data, team: Team, idx: int):\n",
    "    stats = TeamStats(\n",
    "        id = idx,\n",
    "        G = data['Gms'],\n",
    "        MP = data['MP'],\n",
    "        FG = data['FG'],\n",
    "        FGA = data['FGA'],\n",
    "        FGP = data['FGP'],\n",
    "        ThreeP = data['ThreeP'],\n",
    "        ThreePA = data['ThreePA'],\n",
    "        ThreePP = data['ThreePP'],\n",
    "        TwoP = data['TwoP'],\n",
    "        TwoPA = data['TwoPA'],\n",
    "        TwoPP = data['TwoP'],\n",
    "        FT = data['FT'],\n",
    "        FTA = data['FTA'],\n",
    "        FTP = data['FTP'],\n",
    "        ORB = data['ORB'],\n",
    "        DRB = data['DRB'],\n",
    "        TRB = data['TRB'],\n",
    "        AST = data['AST'],\n",
    "        STL = data['STL'],\n",
    "        BLK = data['BLK'],\n",
    "        TOV = data['TOV'],\n",
    "        PF = data['PF'],\n",
    "        PTS = data['PTS'],\n",
    "        team = team\n",
    "    )\n",
    "    return stats\n",
    "\n",
    "# def used to insert a coach into a database\n",
    "def insert_coach(data, team: Team):\n",
    "    coach = Coach(\n",
    "        name = data['Name'],\n",
    "        team = team\n",
    "    )\n",
    "    return coach\n",
    "\n",
    "# def used to insert coach stats into a database e set relationship with a coach\n",
    "def insert_coach_stats(data, coach: Coach, idx):\n",
    "    stats = CoachStats(\n",
    "    id = idx,\n",
    "    SeasG = data['SeasG'],\n",
    "    SeasW = data['SeasW'],\n",
    "    SeasL = data['SeasL'],\n",
    "    FranG = data['FranG'],\n",
    "    FranW = data['FranW'],\n",
    "    FranL = data['FranL'],\n",
    "    CareW = data['CareW'],\n",
    "    CareL = data['CareL'],\n",
    "    CareWP = data['CareWP'],\n",
    "    POSeasG = data['POSeasG'],\n",
    "    POSeasW = data['POSeasW'],\n",
    "    POSeasL = data['POSeasL'],\n",
    "    POFranW = data['POFranW'],\n",
    "    POFranG = data['POFranG'],\n",
    "    POFranL = data['POFranL'],\n",
    "    POCareG = data['POCareG'],\n",
    "    POCareW = data['POCareW'],\n",
    "    POCareL = data['POCareL'],\n",
    "    coach = coach\n",
    "    )\n",
    "    return stats\n"
   ],
   "metadata": {
    "collapsed": false,
    "pycharm": {
     "name": "#%%\n"
    }
   }
  },
  {
   "cell_type": "code",
   "execution_count": 6,
   "outputs": [],
   "source": [
    "idx = 0\n",
    "for index, row in full.iterrows():\n",
    "    team = insert_team(row)\n",
    "    coach = insert_coach(row, team)\n",
    "    team_stats = insert_team_stats(row, team, idx)\n",
    "    coach_stats = insert_coach_stats(row, coach, idx)\n",
    "    team.coach = coach\n",
    "    team.stats = team_stats\n",
    "    coach.stats = coach_stats\n",
    "    commit()\n",
    "    idx += 1"
   ],
   "metadata": {
    "collapsed": false,
    "pycharm": {
     "name": "#%%\n"
    }
   }
  },
  {
   "cell_type": "code",
   "execution_count": 7,
   "outputs": [],
   "source": [
    "def insert_player(data, idx):\n",
    "    player = Player(\n",
    "        id = idx,\n",
    "        name = data['Name'],\n",
    "        position =  data['Pos'],\n",
    "        age = data['Age'],\n",
    "        team = Team.select(lambda tm : tm.id == data['TeamID']).get()\n",
    "    )\n",
    "    return player\n",
    "\n",
    "def insert_player_stats(data, idx, player):\n",
    "    stats = PlayerStats(\n",
    "        id = idx,\n",
    "        GMS = data['Gms'],\n",
    "        GStart = data['Gstart'],\n",
    "        MP = data['MP'],\n",
    "        FG = data['FG'],\n",
    "        FGA = data['FGA'],\n",
    "        FGP = data['FGP'],\n",
    "        ThreeP = data['ThreeP'],\n",
    "        ThreePA = data['ThreePA'],\n",
    "        ThreePP = data['ThreePP'],\n",
    "        TwoP = data['TwoP'],\n",
    "        TwoPA = data['TwoPA'],\n",
    "        TwoPP = data['TwoPP'],\n",
    "        eFGP = data['eFGP'],\n",
    "        FT = data['FT'],\n",
    "        FTA = data['FTA'],\n",
    "        FTP = data['FTP'],\n",
    "        ORB = data['ORB'],\n",
    "        DRB = data['DRB'],\n",
    "        TRB = data['TRB'],\n",
    "        AST = data['AST'],\n",
    "        STL = data['STL'],\n",
    "        BLK = data['BLK'],\n",
    "        TOV = data['TOV'],\n",
    "        PF = data['PF'],\n",
    "        PTS = data['PTS'],\n",
    "        player = player\n",
    "    )\n",
    "    return stats\n"
   ],
   "metadata": {
    "collapsed": false,
    "pycharm": {
     "name": "#%%\n"
    }
   }
  },
  {
   "cell_type": "code",
   "execution_count": 8,
   "outputs": [],
   "source": [
    "idx = 0\n",
    "for index, row in playerdf.iterrows():\n",
    "    player = insert_player(row, idx)\n",
    "    stats = insert_player_stats(row, idx, player)\n",
    "    player.stats = stats\n",
    "    team = Team.select(lambda tm: tm.id == int(row['TeamID'])).get()\n",
    "    team.player.add(player)\n",
    "    commit()\n",
    "    idx += 1"
   ],
   "metadata": {
    "collapsed": false,
    "pycharm": {
     "name": "#%%\n"
    }
   }
  },
  {
   "cell_type": "markdown",
   "source": [
    "## CRUD Operation on data"
   ],
   "metadata": {
    "collapsed": false,
    "pycharm": {
     "name": "#%% md\n"
    }
   }
  },
  {
   "cell_type": "code",
   "execution_count": 180,
   "outputs": [],
   "source": [
    "@db_session\n",
    "def get_all_team():\n",
    "    return Team.select()\n",
    "\n",
    "@db_session\n",
    "def get_team(idx:int):\n",
    "    return Team.select(lambda t: t.id == idx).get()\n",
    "\n",
    "@db_session\n",
    "def get_team_stats(idx:int):\n",
    "    return TeamStats.select(lambda ts: ts.id == idx).get()\n",
    "\n",
    "@db_session\n",
    "def get_coach(idx:int):\n",
    "    return Coach.select(lambda c: c.team.id == idx).get()\n",
    "\n",
    "@db_session\n",
    "def get_coach_stats(idx:str):\n",
    "    return CoachStats.select(lambda cs: cs.coach.name == idx).get()\n",
    "\n",
    "@db_session\n",
    "def get_players(idx:int):\n",
    "    return Player.select(lambda p: p.team.id == idx)\n",
    "\n",
    "@db_session\n",
    "def get_player_stats(idx:int):\n",
    "    return PlayerStats.select(lambda ps: ps.player.id == idx).get()"
   ],
   "metadata": {
    "collapsed": false,
    "pycharm": {
     "name": "#%%\n"
    }
   }
  },
  {
   "cell_type": "code",
   "execution_count": null,
   "outputs": [],
   "source": [
    "## Implementation of FastAPI to create API of nba data"
   ],
   "metadata": {
    "collapsed": false,
    "pycharm": {
     "name": "#%%\n"
    }
   }
  },
  {
   "cell_type": "code",
   "execution_count": 188,
   "outputs": [],
   "source": [
    "from fastapi import FastAPI\n",
    "from pydantic import BaseModel\n",
    "from loguru import logger\n",
    "from pony.orm.serialization import to_dict\n",
    "\n",
    "app = FastAPI()\n",
    "\n",
    "class UserRequestIn(BaseModel):\n",
    "    text: str\n",
    "\n",
    "@app.get(\"/team/{idx}/coach\")\n",
    "@db_session\n",
    "def coach_get(idx:int):\n",
    "    c = get_coach(idx)\n",
    "    return {\n",
    "        \"name\" : c.name,\n",
    "        \"stats\" : f'http://localhost:3000/team/{idx}/{c.name}/stats'\n",
    "    }\n",
    "\n",
    "@app.get(\"/team/{coach}/stats\")\n",
    "@db_session\n",
    "def coach_stats_get(coach:str):\n",
    "    c = get_coach_stats(coach)\n",
    "    data = {}\n",
    "    for key,value in c.to_dict().items():\n",
    "        if key == \"coach\" or key == \"id\":\n",
    "            continue\n",
    "        data[key] = value\n",
    "    return data\n",
    "\n",
    "@app.get('/team/{idx}/players')\n",
    "@db_session\n",
    "def players_get(idx:int):\n",
    "    players = get_players(idx)\n",
    "    all_players = []\n",
    "    for el in players:\n",
    "        data = {\n",
    "                'id' : el.id,\n",
    "                'name': el.name,\n",
    "                'position': el.position,\n",
    "                'age': el.age,\n",
    "                'team': f'http://localhost:3000/team/{el.team.id}',\n",
    "                'stats': f'http://localhost:3000/player/{el.id}/stats'\n",
    "        }\n",
    "        all_players.append(data)\n",
    "    return all_players\n",
    "\n",
    "@app.get('/player/{idx}/stats')\n",
    "@db_session\n",
    "def players_stats_get(idx:int):\n",
    "    pstat = get_player_stats(idx)\n",
    "    data = {}\n",
    "    for key,value in pstat.to_dict().items():\n",
    "        if key == 'player' : continue\n",
    "        data[key] = value\n",
    "\n",
    "    return data\n",
    "\n",
    "@app.get('/team/{idx}')\n",
    "@db_session\n",
    "def team_get(idx:int):\n",
    "    el = get_team(idx)\n",
    "    data = {\n",
    "                'id' : el.id,\n",
    "                'name': el.name,\n",
    "                'abbr': el.abbr,\n",
    "                'location': el.location,\n",
    "                'stats': f'http://localhost:3000/team/{el.id}/stats',\n",
    "                'coach': f'http://localhost:3000/team/{el.id}/coach',\n",
    "                'players': f'http://localhost:3000/team/{el.id}/players'}\n",
    "\n",
    "    return data\n",
    "\n",
    "@app.get('/team/{teamid}/stats')\n",
    "@db_session\n",
    "def team_stats_get(teamid:int):\n",
    "    stats = get_team_stats(12)\n",
    "    return { \"id\" : stats.id}\n",
    "\n",
    "\n",
    "@app.get('/')\n",
    "@db_session\n",
    "def root():\n",
    "    teams = get_all_team()\n",
    "    all_teams = []\n",
    "    for el in teams:\n",
    "        data = {'name': el.name,\n",
    "                'abbr': el.abbr,\n",
    "                'location': el.location,\n",
    "                'stats': f'http://localhost:3000/team/{el.id}/stats',\n",
    "                'coach': f'http://localhost:3000/team/{el.id}/coach',\n",
    "                'players': f'http://localhost:3000/team/{el.id}/players'}\n",
    "        all_teams.append(data)\n",
    "    return all_teams"
   ],
   "metadata": {
    "collapsed": false,
    "pycharm": {
     "name": "#%%\n"
    }
   }
  },
  {
   "cell_type": "code",
   "execution_count": 189,
   "outputs": [
    {
     "data": {
      "text/plain": "<NgrokTunnel: \"http://b31f-185-234-173-130.ngrok.io\" -> \"http://localhost:3000\">"
     },
     "execution_count": 189,
     "metadata": {},
     "output_type": "execute_result"
    }
   ],
   "source": [
    "from pyngrok import ngrok\n",
    "\n",
    "ngrok_tunnel = ngrok.connect(3000)\n",
    "\n",
    "ngrok_tunnel"
   ],
   "metadata": {
    "collapsed": false,
    "pycharm": {
     "name": "#%%\n"
    }
   }
  },
  {
   "cell_type": "code",
   "execution_count": 190,
   "outputs": [
    {
     "name": "stderr",
     "output_type": "stream",
     "text": [
      "INFO:     Started server process [53461]\n",
      "INFO:     Waiting for application startup.\n",
      "INFO:     Application startup complete.\n",
      "INFO:     Uvicorn running on http://127.0.0.1:3000 (Press CTRL+C to quit)\n"
     ]
    },
    {
     "name": "stdout",
     "output_type": "stream",
     "text": [
      "INFO:     127.0.0.1:64117 - \"GET /docs HTTP/1.1\" 200 OK\n",
      "INFO:     127.0.0.1:64117 - \"GET /openapi.json HTTP/1.1\" 200 OK\n",
      "INFO:     127.0.0.1:64117 - \"GET /team/12/stats HTTP/1.1\" 500 Internal Server Error\n"
     ]
    },
    {
     "name": "stderr",
     "output_type": "stream",
     "text": [
      "ERROR:    Exception in ASGI application\n",
      "Traceback (most recent call last):\n",
      "  File \"/Users/biagiolicari/miniforge3/envs/workspace/lib/python3.10/site-packages/uvicorn/protocols/http/h11_impl.py\", line 364, in run_asgi\n",
      "    result = await app(self.scope, self.receive, self.send)\n",
      "  File \"/Users/biagiolicari/miniforge3/envs/workspace/lib/python3.10/site-packages/uvicorn/middleware/proxy_headers.py\", line 75, in __call__\n",
      "    return await self.app(scope, receive, send)\n",
      "  File \"/Users/biagiolicari/miniforge3/envs/workspace/lib/python3.10/site-packages/fastapi/applications.py\", line 212, in __call__\n",
      "    await super().__call__(scope, receive, send)\n",
      "  File \"/Users/biagiolicari/miniforge3/envs/workspace/lib/python3.10/site-packages/starlette/applications.py\", line 112, in __call__\n",
      "    await self.middleware_stack(scope, receive, send)\n",
      "  File \"/Users/biagiolicari/miniforge3/envs/workspace/lib/python3.10/site-packages/starlette/middleware/errors.py\", line 181, in __call__\n",
      "    raise exc\n",
      "  File \"/Users/biagiolicari/miniforge3/envs/workspace/lib/python3.10/site-packages/starlette/middleware/errors.py\", line 159, in __call__\n",
      "    await self.app(scope, receive, _send)\n",
      "  File \"/Users/biagiolicari/miniforge3/envs/workspace/lib/python3.10/site-packages/starlette/exceptions.py\", line 82, in __call__\n",
      "    raise exc\n",
      "  File \"/Users/biagiolicari/miniforge3/envs/workspace/lib/python3.10/site-packages/starlette/exceptions.py\", line 71, in __call__\n",
      "    await self.app(scope, receive, sender)\n",
      "  File \"/Users/biagiolicari/miniforge3/envs/workspace/lib/python3.10/site-packages/starlette/routing.py\", line 656, in __call__\n",
      "    await route.handle(scope, receive, send)\n",
      "  File \"/Users/biagiolicari/miniforge3/envs/workspace/lib/python3.10/site-packages/starlette/routing.py\", line 259, in handle\n",
      "    await self.app(scope, receive, send)\n",
      "  File \"/Users/biagiolicari/miniforge3/envs/workspace/lib/python3.10/site-packages/starlette/routing.py\", line 61, in app\n",
      "    response = await func(request)\n",
      "  File \"/Users/biagiolicari/miniforge3/envs/workspace/lib/python3.10/site-packages/fastapi/routing.py\", line 226, in app\n",
      "    raw_response = await run_endpoint_function(\n",
      "  File \"/Users/biagiolicari/miniforge3/envs/workspace/lib/python3.10/site-packages/fastapi/routing.py\", line 161, in run_endpoint_function\n",
      "    return await run_in_threadpool(dependant.call, **values)\n",
      "  File \"/Users/biagiolicari/miniforge3/envs/workspace/lib/python3.10/site-packages/starlette/concurrency.py\", line 39, in run_in_threadpool\n",
      "    return await anyio.to_thread.run_sync(func, *args)\n",
      "  File \"/Users/biagiolicari/miniforge3/envs/workspace/lib/python3.10/site-packages/anyio/to_thread.py\", line 28, in run_sync\n",
      "    return await get_asynclib().run_sync_in_worker_thread(func, *args, cancellable=cancellable,\n",
      "  File \"/Users/biagiolicari/miniforge3/envs/workspace/lib/python3.10/site-packages/anyio/_backends/_asyncio.py\", line 818, in run_sync_in_worker_thread\n",
      "    return await future\n",
      "  File \"/Users/biagiolicari/miniforge3/envs/workspace/lib/python3.10/asyncio/futures.py\", line 284, in __await__\n",
      "    yield self  # This tells Task to wait for completion.\n",
      "  File \"/Users/biagiolicari/miniforge3/envs/workspace/lib/python3.10/asyncio/tasks.py\", line 304, in __wakeup\n",
      "    future.result()\n",
      "  File \"/Users/biagiolicari/miniforge3/envs/workspace/lib/python3.10/asyncio/futures.py\", line 201, in result\n",
      "    raise self._exception\n",
      "  File \"/Users/biagiolicari/miniforge3/envs/workspace/lib/python3.10/site-packages/anyio/_backends/_asyncio.py\", line 754, in run\n",
      "    result = context.run(func, *args)\n",
      "  File \"<string>\", line 2, in coach_stats_get\n",
      "  File \"/Users/biagiolicari/miniforge3/envs/workspace/lib/python3.10/site-packages/pony/orm/core.py\", line 519, in new_func\n",
      "    result = func(*args, **kwargs)\n",
      "  File \"/var/folders/6l/8gvxp6ls2bs5lkjqdf8w_kj40000gn/T/ipykernel_53461/3451858119.py\", line 25, in coach_stats_get\n",
      "    for key,value in c.to_dict().items():\n",
      "AttributeError: 'NoneType' object has no attribute 'to_dict'\n",
      "INFO:     Shutting down\n",
      "INFO:     Waiting for application shutdown.\n",
      "INFO:     Application shutdown complete.\n",
      "INFO:     Finished server process [53461]\n"
     ]
    }
   ],
   "source": [
    "import nest_asyncio\n",
    "import uvicorn\n",
    "\n",
    "nest_asyncio.apply()\n",
    "uvicorn.run(app, port=3000)"
   ],
   "metadata": {
    "collapsed": false,
    "pycharm": {
     "name": "#%%\n"
    }
   }
  }
 ],
 "metadata": {
  "kernelspec": {
   "display_name": "Python 3",
   "language": "python",
   "name": "python3"
  },
  "language_info": {
   "codemirror_mode": {
    "name": "ipython",
    "version": 2
   },
   "file_extension": ".py",
   "mimetype": "text/x-python",
   "name": "python",
   "nbconvert_exporter": "python",
   "pygments_lexer": "ipython2",
   "version": "2.7.6"
  }
 },
 "nbformat": 4,
 "nbformat_minor": 0
}